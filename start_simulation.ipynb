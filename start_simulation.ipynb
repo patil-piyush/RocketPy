{
 "cells": [
  {
   "cell_type": "code",
   "execution_count": null,
   "id": "eb35f603-9f12-496b-8609-73619301ed1d",
   "metadata": {},
   "outputs": [],
   "source": []
  }
 ],
 "metadata": {
  "kernelspec": {
   "display_name": "",
   "name": ""
  },
  "language_info": {
   "name": ""
  }
 },
 "nbformat": 4,
 "nbformat_minor": 5
}
